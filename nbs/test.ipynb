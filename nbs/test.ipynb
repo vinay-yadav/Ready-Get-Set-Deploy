{
 "cells": [
  {
   "cell_type": "code",
   "id": "initial_id",
   "metadata": {
    "collapsed": true,
    "ExecuteTime": {
     "end_time": "2025-05-11T19:12:48.854015Z",
     "start_time": "2025-05-11T19:12:48.516451Z"
    }
   },
   "source": [
    "from nbs.django_for_jupyter import init_django\n",
    "\n",
    "init_django(project_name=\"deploy_django\")"
   ],
   "outputs": [],
   "execution_count": 1
  },
  {
   "metadata": {
    "ExecuteTime": {
     "end_time": "2025-05-11T19:12:50.660756Z",
     "start_time": "2025-05-11T19:12:50.651349Z"
    }
   },
   "cell_type": "code",
   "source": [
    "from django.conf import settings\n",
    "\n",
    "settings.PROJECT_NAME"
   ],
   "id": "e71a0500b62d2023",
   "outputs": [
    {
     "data": {
      "text/plain": [
       "'django django'"
      ]
     },
     "execution_count": 2,
     "metadata": {},
     "output_type": "execute_result"
    }
   ],
   "execution_count": 2
  }
 ],
 "metadata": {
  "kernelspec": {
   "display_name": "Python 3",
   "language": "python",
   "name": "python3"
  },
  "language_info": {
   "codemirror_mode": {
    "name": "ipython",
    "version": 2
   },
   "file_extension": ".py",
   "mimetype": "text/x-python",
   "name": "python",
   "nbconvert_exporter": "python",
   "pygments_lexer": "ipython2",
   "version": "2.7.6"
  }
 },
 "nbformat": 4,
 "nbformat_minor": 5
}
